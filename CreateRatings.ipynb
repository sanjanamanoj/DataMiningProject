{
 "cells": [
  {
   "cell_type": "code",
   "execution_count": 1,
   "metadata": {
    "collapsed": true
   },
   "outputs": [],
   "source": [
    "import pandas as pd\n",
    "import numpy as np\n",
    "import json\n",
    "import operator\n",
    "import os\n",
    "from scipy.sparse.linalg import svds\n",
    "\n",
    "from sklearn.metrics import mean_squared_error as mse\n",
    "from sklearn.metrics.pairwise import cosine_similarity\n",
    "\n",
    "from urllib.parse import urljoin\n",
    "import itertools\n",
    "import random\n",
    "\n",
    "import matplotlib.pyplot as plt\n",
    "%matplotlib inline"
   ]
  },
  {
   "cell_type": "markdown",
   "metadata": {},
   "source": [
    "### READ DATA"
   ]
  },
  {
   "cell_type": "code",
   "execution_count": 2,
   "metadata": {
    "collapsed": true
   },
   "outputs": [],
   "source": [
    "\n",
    "businesses = pd.read_json('business.json', lines= True)\n",
    "result = pd.read_json('result.json', lines=True)\n"
   ]
  },
  {
   "cell_type": "markdown",
   "metadata": {},
   "source": [
    "### JOIN DATAFRAMES ON BUSINESS IDs"
   ]
  },
  {
   "cell_type": "code",
   "execution_count": 3,
   "metadata": {
    "collapsed": true
   },
   "outputs": [],
   "source": [
    "res = pd.merge(businesses, result, on='business_id')\n",
    "res = res.drop('categories_x',axis=1)\n",
    "res['categories_y'] = res['categories_y'].apply(lambda x: list(map(lambda x: x.get('alias', \"\"), x)))"
   ]
  },
  {
   "cell_type": "markdown",
   "metadata": {},
   "source": [
    "### Get top categories"
   ]
  },
  {
   "cell_type": "code",
   "execution_count": 4,
   "metadata": {},
   "outputs": [
    {
     "data": {
      "text/plain": [
       "1209"
      ]
     },
     "execution_count": 4,
     "metadata": {},
     "output_type": "execute_result"
    }
   ],
   "source": [
    "from collections import defaultdict\n",
    "\n",
    "categories = defaultdict(lambda : 0)\n",
    "\n",
    "for cats in res['categories_y']:\n",
    "    for category in cats:\n",
    "        categories[category] += 1\n",
    "        \n",
    "len(categories)"
   ]
  },
  {
   "cell_type": "code",
   "execution_count": 5,
   "metadata": {
    "collapsed": true
   },
   "outputs": [],
   "source": [
    "sorted_x = sorted(categories.items(), key=operator.itemgetter(1),reverse=True)\n",
    "required_cat = set(map(lambda x: x[0], sorted_x[:25]))\n",
    "\n",
    "required_cat = [\"pizza\",\n",
    "\"hotdogs\",\n",
    "\"sandwiches\",\n",
    "\"tradamerican\",\n",
    "\"coffee\",\n",
    "\"italian\",\n",
    "\"burgers\",\n",
    "\"mexican\",\n",
    "\"breakfast_brunch\",\n",
    "\"chinese\",\n",
    "\"bars\",\n",
    "\"bakeries\",\n",
    "\"newamerican\",\n",
    "\"icecream\",\n",
    "\"cafes\",\n",
    "\"japanese\",\n",
    "\"chicken_wings\",\n",
    "\"sushi\",\n",
    "\"seafood\",\n",
    "\"desserts\"]"
   ]
  },
  {
   "cell_type": "markdown",
   "metadata": {},
   "source": [
    "### RESTRICT TO TOP CATEGORIES"
   ]
  },
  {
   "cell_type": "code",
   "execution_count": 6,
   "metadata": {
    "collapsed": true
   },
   "outputs": [],
   "source": [
    "mask = res['categories_y'].apply(lambda x: len(set(x).intersection(required_cat)) > 0)\n",
    "\n",
    "res = res[mask]\n"
   ]
  },
  {
   "cell_type": "markdown",
   "metadata": {},
   "source": [
    "### RESTRICT TO BUSINESSES IN US"
   ]
  },
  {
   "cell_type": "code",
   "execution_count": 7,
   "metadata": {
    "collapsed": true
   },
   "outputs": [],
   "source": [
    "def in_USA(s):\n",
    "    try:\n",
    "        int(s)\n",
    "        return len(s) == 5\n",
    "    except ValueError:\n",
    "        return False"
   ]
  },
  {
   "cell_type": "code",
   "execution_count": 8,
   "metadata": {
    "collapsed": true
   },
   "outputs": [],
   "source": [
    "mask2 = res['postal_code'].apply(in_USA)"
   ]
  },
  {
   "cell_type": "code",
   "execution_count": 9,
   "metadata": {
    "collapsed": true
   },
   "outputs": [],
   "source": [
    "res = res[mask2]"
   ]
  },
  {
   "cell_type": "markdown",
   "metadata": {},
   "source": [
    "### Remove categories not in top 10"
   ]
  },
  {
   "cell_type": "code",
   "execution_count": 11,
   "metadata": {
    "collapsed": true
   },
   "outputs": [],
   "source": [
    "res['categories_y'] = res['categories_y'].apply(lambda x: list(filter(lambda y: y in required_cat, x)))"
   ]
  },
  {
   "cell_type": "code",
   "execution_count": 13,
   "metadata": {
    "collapsed": true
   },
   "outputs": [],
   "source": [
    "path ='project_data' # use your path\n",
    "allFiles = os.listdir(path)\n",
    "frame = pd.DataFrame()\n",
    "list_ = []\n",
    "for file_ in allFiles:\n",
    "    df = pd.read_json(path+\"/\"+file_,lines=True)\n",
    "    list_.append(df)\n",
    "frame = pd.concat(list_)"
   ]
  },
  {
   "cell_type": "code",
   "execution_count": 14,
   "metadata": {},
   "outputs": [
    {
     "data": {
      "text/plain": [
       "4736897"
      ]
     },
     "execution_count": 14,
     "metadata": {},
     "output_type": "execute_result"
    }
   ],
   "source": [
    "len(frame)"
   ]
  },
  {
   "cell_type": "code",
   "execution_count": 15,
   "metadata": {
    "collapsed": true
   },
   "outputs": [],
   "source": [
    "merged  = pd.merge(res, frame, on='business_id')\n",
    "s = merged.apply(lambda x: pd.Series(x['categories_y']),axis=1).stack().reset_index(level=1, drop=True)\n",
    "s.name = 'categories'\n",
    "merged = merged.drop('categories_y', axis=1).join(s)\n"
   ]
  },
  {
   "cell_type": "code",
   "execution_count": 16,
   "metadata": {
    "collapsed": true
   },
   "outputs": [],
   "source": [
    "ratings = merged[['user_id', 'categories','stars_y']].groupby(['user_id', 'categories'], as_index=False).mean()"
   ]
  },
  {
   "cell_type": "code",
   "execution_count": 29,
   "metadata": {
    "collapsed": true
   },
   "outputs": [],
   "source": [
    "ratings.to_csv(\"ratings.csv\",sep=\";\",index=False)"
   ]
  }
 ],
 "metadata": {
  "kernelspec": {
   "display_name": "Python 3",
   "language": "python",
   "name": "python3"
  },
  "language_info": {
   "codemirror_mode": {
    "name": "ipython",
    "version": 3
   },
   "file_extension": ".py",
   "mimetype": "text/x-python",
   "name": "python",
   "nbconvert_exporter": "python",
   "pygments_lexer": "ipython3",
   "version": "3.6.2"
  }
 },
 "nbformat": 4,
 "nbformat_minor": 2
}
